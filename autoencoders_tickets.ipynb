{
  "nbformat": 4,
  "nbformat_minor": 0,
  "metadata": {
    "colab": {
      "name": "autoencoders_tickets.ipynb",
      "provenance": []
    },
    "kernelspec": {
      "name": "python3",
      "display_name": "Python 3"
    }
  },
  "cells": [
    {
      "cell_type": "code",
      "metadata": {
        "id": "99plAPYRC7-0"
      },
      "source": [
        "import tensorflow as tf\r\n",
        "from tensorflow import keras\r\n",
        "from tensorflow.keras.preprocessing.text import Tokenizer\r\n",
        "from tensorflow.keras.preprocessing.sequence import pad_sequences\r\n",
        "from keras.layers import Input, Dropout, Dense, LSTM, TimeDistributed, RepeatVector,Embedding,Reshape\r\n",
        "from keras.models import Model\r\n",
        "from keras import regularizers\r\n",
        "import matplotlib.pyplot as plt\r\n",
        "import seaborn as sns\r\n",
        "import numpy as np\r\n",
        "import pandas as pd"
      ],
      "execution_count": 32,
      "outputs": []
    },
    {
      "cell_type": "code",
      "metadata": {
        "colab": {
          "base_uri": "https://localhost:8080/"
        },
        "id": "T_AXNQF2DEVu",
        "outputId": "54a61489-7ca9-46c1-c76f-f8759b9e7eef"
      },
      "source": [
        "dataset=pd.read_csv('/content/sample_data/prod_task.csv', encoding='cp1252')\r\n",
        "sentences=dataset['TASK'].to_list()\r\n",
        "\r\n",
        "vocab_size = 5908\r\n",
        "embedding_dim = 16\r\n",
        "max_length = 10\r\n",
        "trunc_type='post'\r\n",
        "oov_tok = \"<OOV>\"\r\n",
        "\r\n",
        "tokenizer = Tokenizer(num_words = vocab_size, oov_token=\"<OOV>\")\r\n",
        "tokenizer.fit_on_texts(sentences)\r\n",
        "word_index = tokenizer.word_index\r\n",
        "\r\n",
        "sequences = tokenizer.texts_to_sequences(sentences)\r\n",
        "padded = pad_sequences(sequences, maxlen=max_length, truncating=trunc_type)\r\n",
        "reverse_word_index = dict([(value, key) for (key, value) in word_index.items()])\r\n",
        "\r\n",
        "reverse_word_index = dict([(value, key) for (key, value) in word_index.items()])\r\n",
        "def decode_review(text):\r\n",
        "    return ' '.join([reverse_word_index.get(i, '?') for i in text])\r\n",
        "\r\n",
        "print(padded[0])\r\n",
        "print(decode_review(padded[0]))\r\n",
        "print(sentences[0])\r\n",
        "\r\n",
        "# reshape inputs for LSTM [samples, timesteps, features]\r\n",
        "X_train=padded\r\n",
        "X_train = X_train.reshape(X_train.shape[0],X_train.shape[1],1)\r\n",
        "print(\"Training data shape:\", X_train.shape)\r\n",
        "# normalize\r\n",
        "X_train = X_train / float(vocab_size)\r\n",
        "\r\n",
        "model_embed = tf.keras.Sequential(tf.keras.layers.Embedding(vocab_size, embedding_dim, input_length=max_length))\r\n",
        "model_embed.compile(loss='mae',optimizer='adam')\r\n",
        "\r\n",
        "def autoencoder_model(X):\r\n",
        "    inputs = Input(shape=(X.shape[1], X.shape[2]))\r\n",
        "    L1 = LSTM(16, activation='relu', return_sequences=True, \r\n",
        "              kernel_regularizer=regularizers.l2(0.00))(inputs)\r\n",
        "    L2 = LSTM(4, activation='relu', return_sequences=False)(L1)\r\n",
        "    L3 = RepeatVector(X.shape[1])(L2)\r\n",
        "    L4 = LSTM(4, activation='relu', return_sequences=True)(L3)\r\n",
        "    L5 = LSTM(16, activation='relu', return_sequences=True)(L4)\r\n",
        "    output = TimeDistributed(Dense(X.shape[2]))(L5)    \r\n",
        "    model = Model(inputs=inputs, outputs=output)\r\n",
        "    return model\r\n",
        "\r\n",
        "# create the autoencoder model\r\n",
        "model = autoencoder_model(X_train)\r\n",
        "model.compile(optimizer='adam', loss='mae')\r\n",
        "model.summary()    \r\n",
        "\r\n",
        "# fit the model to the data\r\n",
        "nb_epochs = 10\r\n",
        "batch_size = 32\r\n",
        "history = model.fit(X_train, X_train, epochs=nb_epochs, batch_size=batch_size).history\r\n",
        "\r\n",
        "# plot the training losses\r\n",
        "fig, ax = plt.subplots(figsize=(8, 4), dpi=80)\r\n",
        "ax.plot(history['loss'], 'b', label='Train', linewidth=2)\r\n",
        "# ax.plot(history['val_loss'], 'r', label='Validation', linewidth=2)\r\n",
        "ax.set_title('Model loss', fontsize=16)\r\n",
        "ax.set_ylabel('Loss (mae)')\r\n",
        "ax.set_xlabel('Epoch')\r\n",
        "ax.legend(loc='upper right')\r\n",
        "plt.show()\r\n",
        "\r\n",
        "# plot the loss distribution of the training set\r\n",
        "X_pred = model.predict(X_train)\r\n",
        "X_pred = X_pred.reshape(X_pred.shape[0], X_pred.shape[1])\r\n",
        "X_pred = pd.DataFrame(X_pred)\r\n",
        "X_pred\r\n",
        "\r\n",
        "scored = pd.DataFrame(index=X_pred.index)\r\n",
        "Xtrain = X_train.reshape(X_train.shape[0], X_train.shape[1])\r\n",
        "scored['Loss_mae'] = np.mean(np.abs(X_pred-Xtrain), axis = 1)\r\n",
        "\r\n",
        "plt.figure(figsize=(8,4), dpi=80)\r\n",
        "plt.title('Loss Distribution', fontsize=16)\r\n",
        "sns.distplot(scored['Loss_mae'], bins = 10, kde= True, color = 'blue');\r\n",
        "plt.xlim([0.0,.5])"
      ],
      "execution_count": 141,
      "outputs": [
        {
          "output_type": "stream",
          "text": [
            "[  0   0   0   0  76 168 424 108 338  75]\n",
            "? ? ? ? vm tools updates by esx update\n",
            "VM tools updates by ESX update\n",
            "Training data shape: (14416, 10, 1)\n",
            "Model: \"model_16\"\n",
            "_________________________________________________________________\n",
            "Layer (type)                 Output Shape              Param #   \n",
            "=================================================================\n",
            "input_32 (InputLayer)        [(None, 10, 1)]           0         \n",
            "_________________________________________________________________\n",
            "lstm_115 (LSTM)              (None, 10, 16)            1152      \n",
            "_________________________________________________________________\n",
            "lstm_116 (LSTM)              (None, 4)                 336       \n",
            "_________________________________________________________________\n",
            "repeat_vector_25 (RepeatVect (None, 10, 4)             0         \n",
            "_________________________________________________________________\n",
            "lstm_117 (LSTM)              (None, 10, 4)             144       \n",
            "_________________________________________________________________\n",
            "lstm_118 (LSTM)              (None, 10, 16)            1344      \n",
            "_________________________________________________________________\n",
            "time_distributed_11 (TimeDis (None, 10, 1)             17        \n",
            "=================================================================\n",
            "Total params: 2,993\n",
            "Trainable params: 2,993\n",
            "Non-trainable params: 0\n",
            "_________________________________________________________________\n",
            "Epoch 1/10\n",
            "451/451 [==============================] - 12s 16ms/step - loss: 0.0429\n",
            "Epoch 2/10\n",
            "451/451 [==============================] - 7s 16ms/step - loss: 0.0409\n",
            "Epoch 3/10\n",
            "451/451 [==============================] - 7s 16ms/step - loss: 0.0410\n",
            "Epoch 4/10\n",
            "451/451 [==============================] - 8s 18ms/step - loss: 0.0406\n",
            "Epoch 5/10\n",
            "451/451 [==============================] - 7s 16ms/step - loss: 0.0405\n",
            "Epoch 6/10\n",
            "451/451 [==============================] - 7s 16ms/step - loss: 0.0414\n",
            "Epoch 7/10\n",
            "451/451 [==============================] - 7s 15ms/step - loss: 0.0398\n",
            "Epoch 8/10\n",
            "451/451 [==============================] - 7s 16ms/step - loss: 0.0364\n",
            "Epoch 9/10\n",
            "451/451 [==============================] - 7s 15ms/step - loss: 0.0354\n",
            "Epoch 10/10\n",
            "451/451 [==============================] - 7s 16ms/step - loss: 0.0350\n"
          ],
          "name": "stdout"
        }
      ]
    },
    {
      "cell_type": "code",
      "metadata": {
        "colab": {
          "base_uri": "https://localhost:8080/"
        },
        "id": "YyTjndCf1ZiR",
        "outputId": "593e72ba-7c10-49cd-cb2e-b807e1223cd8"
      },
      "source": [
        "e = model_embed.layers[0]\r\n",
        "weights = e.get_weights()[0]\r\n",
        "print(weights.shape)"
      ],
      "execution_count": 126,
      "outputs": [
        {
          "output_type": "stream",
          "text": [
            "(5908, 16)\n"
          ],
          "name": "stdout"
        }
      ]
    },
    {
      "cell_type": "code",
      "metadata": {
        "colab": {
          "base_uri": "https://localhost:8080/",
          "height": 400
        },
        "id": "AqNFymVNn0pA",
        "outputId": "c4bc3cd9-a64b-4c7d-d6b7-665428311d58"
      },
      "source": [
        "####Test data\r\n",
        "\r\n",
        "test_data=pd.read_csv('/content/sample_data/cumminstrainingdata.csv')\r\n",
        "test_data=test_data['description'].to_list()\r\n",
        "\r\n",
        "sentences=test_data\r\n",
        "tokenizer = Tokenizer(num_words = vocab_size, oov_token=\"<OOV>\")\r\n",
        "tokenizer.fit_on_texts(sentences)\r\n",
        "word_index = tokenizer.word_index\r\n",
        "sequences = tokenizer.texts_to_sequences(sentences)\r\n",
        "padded = pad_sequences(sequences, maxlen=max_length, truncating=trunc_type)\r\n",
        "# reshape inputs for LSTM [samples, timesteps, features]\r\n",
        "X_test=padded\r\n",
        "X_test = X_train.reshape(X_train.shape[0],X_train.shape[1],1)\r\n",
        "X_test_pred = model.predict(X_test)\r\n",
        "X_test_pred = X_test_pred.reshape(X_test_pred.shape[0], X_test_pred.shape[1])\r\n",
        "X_test_pred = pd.DataFrame(X_test_pred)\r\n",
        "\r\n",
        "scored = pd.DataFrame(index=X_test_pred.index)\r\n",
        "Xtest = X_test.reshape(X_test.shape[0], X_test.shape[1])\r\n",
        "scored['Loss_mae'] = np.mean(np.abs(X_pred-Xtest), axis = 1)\r\n",
        "scored['Automatable']=scored[scored['Loss_mae'] >0.15]\r\n",
        "plt.figure(figsize=(8,4), dpi=80)\r\n",
        "plt.title('Loss Distribution', fontsize=16)\r\n",
        "sns.distplot(scored['Loss_mae'], bins = 10, kde= True, color = 'blue');\r\n",
        "plt.xlim([0.0,.5])"
      ],
      "execution_count": 140,
      "outputs": [
        {
          "output_type": "stream",
          "text": [
            "/usr/local/lib/python3.6/dist-packages/seaborn/distributions.py:2551: FutureWarning: `distplot` is a deprecated function and will be removed in a future version. Please adapt your code to use either `displot` (a figure-level function with similar flexibility) or `histplot` (an axes-level function for histograms).\n",
            "  warnings.warn(msg, FutureWarning)\n"
          ],
          "name": "stderr"
        },
        {
          "output_type": "execute_result",
          "data": {
            "text/plain": [
              "(0.0, 0.5)"
            ]
          },
          "metadata": {
            "tags": []
          },
          "execution_count": 140
        },
        {
          "output_type": "display_data",
          "data": {
            "image/png": "[encoded data removed]",
            "text/plain": [
              "<Figure size 640x320 with 1 Axes>"
            ]
          },
          "metadata": {
            "tags": [],
            "needs_background": "light"
          }
        }
      ]
    }
  ]
}