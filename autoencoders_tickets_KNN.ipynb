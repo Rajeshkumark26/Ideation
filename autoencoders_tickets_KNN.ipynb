{
  "nbformat": 4,
  "nbformat_minor": 0,
  "metadata": {
    "colab": {
      "name": "autoencoders_tickets_KNN.ipynb",
      "provenance": []
    },
    "kernelspec": {
      "name": "python3",
      "display_name": "Python 3"
    }
  },
  "cells": [
    {
      "cell_type": "code",
      "metadata": {
        "id": "99plAPYRC7-0"
      },
      "source": [
        "import tensorflow as tf\r\n",
        "from tensorflow import keras\r\n",
        "from tensorflow.keras.preprocessing.text import Tokenizer\r\n",
        "from tensorflow.keras.preprocessing.sequence import pad_sequences\r\n",
        "import keras.layers as L\r\n",
        "from keras.models import Model\r\n",
        "from keras import regularizers\r\n",
        "import matplotlib.pyplot as plt\r\n",
        "import seaborn as sns\r\n",
        "import numpy as np\r\n",
        "import pandas as pd"
      ],
      "execution_count": 4,
      "outputs": []
    },
    {
      "cell_type": "code",
      "metadata": {
        "colab": {
          "base_uri": "https://localhost:8080/"
        },
        "id": "T_AXNQF2DEVu",
        "outputId": "ae2b1e32-54d5-47a1-e9ef-0a3d49510674"
      },
      "source": [
        "dataset=pd.read_csv('/content/sample_data/prod_task.csv', encoding='cp1252')\r\n",
        "sentences=dataset['TASK'].to_list()\r\n",
        "\r\n",
        "vocab_size = 5908\r\n",
        "embedding_dim = 16\r\n",
        "max_length = 10\r\n",
        "trunc_type='post'\r\n",
        "oov_tok = \"<OOV>\"\r\n",
        "\r\n",
        "tokenizer = Tokenizer(num_words = vocab_size, oov_token=\"<OOV>\")\r\n",
        "tokenizer.fit_on_texts(sentences)\r\n",
        "word_index = tokenizer.word_index\r\n",
        "\r\n",
        "sequences = tokenizer.texts_to_sequences(sentences)\r\n",
        "padded = pad_sequences(sequences, maxlen=max_length, truncating=trunc_type)\r\n",
        "reverse_word_index = dict([(value, key) for (key, value) in word_index.items()])\r\n",
        "\r\n",
        "reverse_word_index = dict([(value, key) for (key, value) in word_index.items()])\r\n",
        "def decode_review(text):\r\n",
        "    return ' '.join([reverse_word_index.get(i, '?') for i in text])\r\n",
        "\r\n",
        "print(padded[0])\r\n",
        "print(decode_review(padded[0]))\r\n",
        "print(sentences[0])\r\n",
        "\r\n",
        "# reshape inputs for LSTM [samples, timesteps, features]\r\n",
        "X_train=padded\r\n",
        "X_train = X_train.reshape(X_train.shape[0],X_train.shape[1],1)\r\n",
        "print(\"Training data shape:\", X_train.shape)\r\n",
        "# normalize\r\n",
        "X_train = X_train / float(vocab_size)\r\n",
        "\r\n",
        "#Embeddings\r\n",
        "# model_embed = tf.keras.Sequential(tf.keras.layers.Embedding(vocab_size, embedding_dim, input_length=max_length))\r\n",
        "# model_embed.compile(loss='mae',optimizer='adam')\r\n",
        "\r\n",
        "def autoencoder_model(X):\r\n",
        "\r\n",
        "    encoder = tf.keras.models.Sequential()\r\n",
        "    encoder.add(L.InputLayer((X.shape[1], X.shape[2])))\r\n",
        "    encoder.add(L.LSTM(16, activation='relu', return_sequences=True,kernel_regularizer=regularizers.l2(0.00)))\r\n",
        "    encoder.add(L.LSTM(4, activation='relu', return_sequences=False))\r\n",
        "    encoder.add(L.RepeatVector(X.shape[1]))\r\n",
        "\r\n",
        "    decoder= tf.keras.models.Sequential()\r\n",
        "    decoder.add(L.LSTM(4, activation='relu', return_sequences=True))\r\n",
        "    decoder.add(L.LSTM(16, activation='relu', return_sequences=True))\r\n",
        "    decoder.add(TimeDistributed(Dense(X.shape[2])))\r\n",
        "\r\n",
        "    # inputs = Input(shape=(X.shape[1], X.shape[2]))\r\n",
        "    # L1 = LSTM(16, activation='relu', return_sequences=True, \r\n",
        "    #           kernel_regularizer=regularizers.l2(0.00))(inputs)\r\n",
        "    # L2 = LSTM(4, activation='relu', return_sequences=False)(L1)\r\n",
        "    # L3 = RepeatVector(X.shape[1])(L2)\r\n",
        "    # L4 = LSTM(4, activation='relu', return_sequences=True)(L3)\r\n",
        "    # L5 = LSTM(16, activation='relu', return_sequences=True)(L4)\r\n",
        "    # output = TimeDistributed(Dense(X.shape[2]))(L5)    \r\n",
        "    # model = Model(inputs=inputs, outputs=output)\r\n",
        "\r\n",
        "    return encoder, decoder\r\n",
        "\r\n",
        "\r\n"
      ],
      "execution_count": 172,
      "outputs": [
        {
          "output_type": "stream",
          "text": [
            "[  0   0   0   0  76 168 424 108 338  75]\n",
            "? ? ? ? vm tools updates by esx update\n",
            "VM tools updates by ESX update\n",
            "Training data shape: (14416, 10, 1)\n"
          ],
          "name": "stdout"
        }
      ]
    },
    {
      "cell_type": "code",
      "metadata": {
        "colab": {
          "base_uri": "https://localhost:8080/"
        },
        "id": "4lvoZg5e8b6k",
        "outputId": "389e4375-336c-4e3d-f7ac-238057411149"
      },
      "source": [
        "input_shape=X_train.shape[1:]\r\n",
        "input_shape"
      ],
      "execution_count": 110,
      "outputs": [
        {
          "output_type": "execute_result",
          "data": {
            "text/plain": [
              "(10, 1)"
            ]
          },
          "metadata": {
            "tags": []
          },
          "execution_count": 110
        }
      ]
    },
    {
      "cell_type": "code",
      "metadata": {
        "colab": {
          "base_uri": "https://localhost:8080/"
        },
        "id": "kv4S0aI0v3XE",
        "outputId": "076711dd-d5bf-423f-827d-34532eefecee"
      },
      "source": [
        "encoder,decoder = autoencoder_model(X_train)\r\n",
        "inp = L.Input(input_shape)\r\n",
        "code = encoder(inp)\r\n",
        "reconstruction = decoder(code)\r\n",
        "\r\n",
        "autoencoder = tf.keras.models.Model(inputs=inp, outputs=reconstruction)\r\n",
        "autoencoder.compile(optimizer=\"adam\", loss='mse')\r\n",
        "\r\n",
        "history=autoencoder.fit(x=X_train, y=X_train, epochs=5, validation_split=0.05).history\r\n",
        "\r\n",
        "# create the autoencoder model\r\n",
        "# model.compile(optimizer='adam', loss='mae')\r\n",
        "# model.summary()    \r\n"
      ],
      "execution_count": 111,
      "outputs": [
        {
          "output_type": "stream",
          "text": [
            "Epoch 1/5\n",
            "428/428 [==============================] - 11s 16ms/step - loss: 0.0129 - val_loss: 0.0169\n",
            "Epoch 2/5\n",
            "428/428 [==============================] - 6s 15ms/step - loss: 0.0099 - val_loss: 0.0162\n",
            "Epoch 3/5\n",
            "428/428 [==============================] - 6s 15ms/step - loss: 0.0092 - val_loss: 0.0155\n",
            "Epoch 4/5\n",
            "428/428 [==============================] - 6s 15ms/step - loss: 0.0087 - val_loss: 0.0147\n",
            "Epoch 5/5\n",
            "428/428 [==============================] - 6s 15ms/step - loss: 0.0083 - val_loss: 0.0138\n"
          ],
          "name": "stdout"
        }
      ]
    },
    {
      "cell_type": "code",
      "metadata": {
        "colab": {
          "base_uri": "https://localhost:8080/",
          "height": 327
        },
        "id": "9Q8jck5Z_R3-",
        "outputId": "73194b61-7418-4fb7-ee44-b630282f4d76"
      },
      "source": [
        "fig, ax = plt.subplots(figsize=(8, 4), dpi=80)\r\n",
        "ax.plot(history['loss'], 'b', label='Train', linewidth=2)\r\n",
        "ax.plot(history['val_loss'], 'r', label='Validation', linewidth=2)\r\n",
        "ax.set_title('Model loss', fontsize=16)\r\n",
        "ax.set_ylabel('Loss (mae)')\r\n",
        "ax.set_xlabel('Epoch')\r\n",
        "ax.legend(loc='upper right')\r\n",
        "plt.show()"
      ],
      "execution_count": 112,
      "outputs": [
        {
          "output_type": "display_data",
          "data": {
            "image/png": "[encoded data removed]",
            "text/plain": [
              "<Figure size 640x320 with 1 Axes>"
            ]
          },
          "metadata": {
            "tags": [],
            "needs_background": "light"
          }
        }
      ]
    },
    {
      "cell_type": "code",
      "metadata": {
        "colab": {
          "base_uri": "https://localhost:8080/",
          "height": 327
        },
        "id": "QukL-IrfrTBj",
        "outputId": "8f1ef5a2-2c3e-4de6-a8e9-47e2d2e0ab39"
      },
      "source": [
        "# # fit the model to the data\r\n",
        "# nb_epochs = 10\r\n",
        "# batch_size = 32\r\n",
        "# history = model.fit(X_train, X_train, epochs=nb_epochs, batch_size=batch_size).history\r\n",
        "\r\n",
        "# plot the training losses\r\n",
        "fig, ax = plt.subplots(figsize=(8, 4), dpi=80)\r\n",
        "ax.plot(history['loss'], 'b', label='Train', linewidth=2)\r\n",
        "# ax.plot(history['val_loss'], 'r', label='Validation', linewidth=2)\r\n",
        "ax.set_title('Model loss', fontsize=16)\r\n",
        "ax.set_ylabel('Loss (mae)')\r\n",
        "ax.set_xlabel('Epoch')\r\n",
        "ax.legend(loc='upper right')\r\n",
        "plt.show()\r\n",
        "\r\n"
      ],
      "execution_count": 113,
      "outputs": [
        {
          "output_type": "display_data",
          "data": {
            "image/png": "[encoded data removed]",
            "text/plain": [
              "<Figure size 640x320 with 1 Axes>"
            ]
          },
          "metadata": {
            "tags": [],
            "needs_background": "light"
          }
        }
      ]
    },
    {
      "cell_type": "code",
      "metadata": {
        "id": "E-JcRtMl_bXk"
      },
      "source": [
        ""
      ],
      "execution_count": null,
      "outputs": []
    },
    {
      "cell_type": "code",
      "metadata": {
        "colab": {
          "base_uri": "https://localhost:8080/"
        },
        "id": "AqNFymVNn0pA",
        "outputId": "f21219f0-b340-4d16-df8d-08593afd06ca"
      },
      "source": [
        "####Test data\r\n",
        "\r\n",
        "test_data=pd.read_csv('/content/sample_data/cumminstrainingdata.csv')\r\n",
        "test_data=test_data['description'].to_list()\r\n",
        "\r\n",
        "sentences=test_data\r\n",
        "tokenizer = Tokenizer(num_words = vocab_size, oov_token=\"<OOV>\")\r\n",
        "tokenizer.fit_on_texts(sentences)\r\n",
        "word_index = tokenizer.word_index\r\n",
        "sequences = tokenizer.texts_to_sequences(sentences)\r\n",
        "test_padded = pad_sequences(sequences, maxlen=max_length, truncating=trunc_type)\r\n",
        "# reshape inputs for LSTM [samples, timesteps, features]\r\n",
        "X_test=test_padded\r\n",
        "X_test = X_test.reshape(X_test.shape[0],X_test.shape[1],1)\r\n",
        "print(\"Test data shape:\", X_test.shape)"
      ],
      "execution_count": 115,
      "outputs": [
        {
          "output_type": "stream",
          "text": [
            "Test data shape: (6624, 10, 1)\n"
          ],
          "name": "stdout"
        }
      ]
    },
    {
      "cell_type": "code",
      "metadata": {
        "colab": {
          "base_uri": "https://localhost:8080/"
        },
        "id": "856dZHc3FFEo",
        "outputId": "9516df7f-2b48-46ca-fb15-0150a47383ec"
      },
      "source": [
        "X_train.shape"
      ],
      "execution_count": 173,
      "outputs": [
        {
          "output_type": "execute_result",
          "data": {
            "text/plain": [
              "(14416, 10, 1)"
            ]
          },
          "metadata": {
            "tags": []
          },
          "execution_count": 173
        }
      ]
    },
    {
      "cell_type": "code",
      "metadata": {
        "id": "W0O4VGCT_6v2"
      },
      "source": [
        "#Save encodings\r\n",
        "codes = encoder.predict(X_train) \r\n",
        "nsamples, nx, ny = codes.shape\r\n",
        "codes = codes.reshape((nsamples,nx*ny))"
      ],
      "execution_count": 174,
      "outputs": []
    },
    {
      "cell_type": "code",
      "metadata": {
        "colab": {
          "base_uri": "https://localhost:8080/"
        },
        "id": "Q-7kPmX2DGcK",
        "outputId": "c340968e-cd20-4a1a-f51f-5c26e9ced871"
      },
      "source": [
        "from sklearn.neighbors import NearestNeighbors\r\n",
        "nei_clf = NearestNeighbors(p=2,metric='cosine')\r\n",
        "nei_clf.fit(codes)"
      ],
      "execution_count": 197,
      "outputs": [
        {
          "output_type": "execute_result",
          "data": {
            "text/plain": [
              "NearestNeighbors(algorithm='auto', leaf_size=30, metric='cosine',\n",
              "                 metric_params=None, n_jobs=None, n_neighbors=5, p=2,\n",
              "                 radius=1.0)"
            ]
          },
          "metadata": {
            "tags": []
          },
          "execution_count": 197
        }
      ]
    },
    {
      "cell_type": "code",
      "metadata": {
        "colab": {
          "base_uri": "https://localhost:8080/"
        },
        "id": "YvAi-R9VGd4z",
        "outputId": "39c17a67-bcb3-4204-966b-b40efdc7b2c9"
      },
      "source": [
        "test_sentences=['Hi hello how are you !']\r\n",
        "# tokenizer = Tokenizer(num_words = vocab_size, oov_token=\"<OOV>\")\r\n",
        "# tokenizer.fit_on_texts(sentences)\r\n",
        "# word_index = tokenizer.word_index\r\n",
        "test_sequences = tokenizer.texts_to_sequences(test_sentences)\r\n",
        "test_padded = pad_sequences(test_sequences, maxlen=max_length, truncating=trunc_type)\r\n",
        "X_test=test_padded\r\n",
        "X_test=test_padded.reshape(1,test_padded.shape[1],1)\r\n",
        "X_test.shape"
      ],
      "execution_count": 218,
      "outputs": [
        {
          "output_type": "execute_result",
          "data": {
            "text/plain": [
              "(1, 10, 1)"
            ]
          },
          "metadata": {
            "tags": []
          },
          "execution_count": 218
        }
      ]
    },
    {
      "cell_type": "code",
      "metadata": {
        "id": "g4Xbqf3EECnQ"
      },
      "source": [
        "# code = encoder.predict(X_test[2000].reshape(1,X_test.shape[1],1))\r\n",
        "code = encoder.predict(X_test)\r\n",
        "nsamples, nx, ny = code.shape\r\n",
        "code = code.reshape((nsamples,nx*ny))\r\n"
      ],
      "execution_count": 219,
      "outputs": []
    },
    {
      "cell_type": "code",
      "metadata": {
        "colab": {
          "base_uri": "https://localhost:8080/"
        },
        "id": "W07kEwtjG-BF",
        "outputId": "2f71719e-82b5-4ad9-8802-e07c09e5d246"
      },
      "source": [
        "distances,indices = nei_clf.kneighbors(code,n_neighbors=1)\r\n",
        "distances,indices"
      ],
      "execution_count": 220,
      "outputs": [
        {
          "output_type": "execute_result",
          "data": {
            "text/plain": [
              "(array([[5.364418e-07]], dtype=float32), array([[13473]]))"
            ]
          },
          "metadata": {
            "tags": []
          },
          "execution_count": 220
        }
      ]
    },
    {
      "cell_type": "code",
      "metadata": {
        "colab": {
          "base_uri": "https://localhost:8080/"
        },
        "id": "mJlbiVSdLAR0",
        "outputId": "38e3fef6-de75-4e98-87f2-57839f5d15bf"
      },
      "source": [
        "X_inp=padded\r\n",
        "X_inp.shape=X_train.shape[:2]\r\n",
        "X_inp.shape"
      ],
      "execution_count": 200,
      "outputs": [
        {
          "output_type": "execute_result",
          "data": {
            "text/plain": [
              "(14416, 10)"
            ]
          },
          "metadata": {
            "tags": []
          },
          "execution_count": 200
        }
      ]
    },
    {
      "cell_type": "code",
      "metadata": {
        "colab": {
          "base_uri": "https://localhost:8080/",
          "height": 35
        },
        "id": "YYAoDQeaKvVG",
        "outputId": "7004e680-c7c4-4e56-814a-4a4bdeb74432"
      },
      "source": [
        "decode_review(test_padded[0])"
      ],
      "execution_count": 222,
      "outputs": [
        {
          "output_type": "execute_result",
          "data": {
            "application/vnd.google.colaboratory.intrinsic+json": {
              "type": "string"
            },
            "text/plain": [
              "'? ? ? ? ? hi <OOV> how are you'"
            ]
          },
          "metadata": {
            "tags": []
          },
          "execution_count": 222
        }
      ]
    },
    {
      "cell_type": "code",
      "metadata": {
        "colab": {
          "base_uri": "https://localhost:8080/",
          "height": 35
        },
        "id": "wdURh4wnLZZb",
        "outputId": "d366e1e4-7dd2-46c1-c54c-370b6e6dea63"
      },
      "source": [
        "decode_review(X_inp[13473])"
      ],
      "execution_count": 223,
      "outputs": [
        {
          "output_type": "execute_result",
          "data": {
            "application/vnd.google.colaboratory.intrinsic+json": {
              "type": "string"
            },
            "text/plain": [
              "'? ? sunrise report tools partially report of one track'"
            ]
          },
          "metadata": {
            "tags": []
          },
          "execution_count": 223
        }
      ]
    }
  ]
}